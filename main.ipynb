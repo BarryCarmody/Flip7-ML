{
 "cells": [
  {
   "cell_type": "markdown",
   "id": "ec56e13b",
   "metadata": {},
   "source": [
    "# Flip 7"
   ]
  },
  {
   "cell_type": "code",
   "execution_count": 35,
   "id": "1dada4f8",
   "metadata": {},
   "outputs": [],
   "source": [
    "import random\n",
    "import gymnasium as gym"
   ]
  },
  {
   "cell_type": "markdown",
   "id": "2ee5034e",
   "metadata": {},
   "source": [
    "## Game Classes"
   ]
  },
  {
   "cell_type": "markdown",
   "id": "2cbcdda5",
   "metadata": {},
   "source": [
    "### Card"
   ]
  },
  {
   "cell_type": "code",
   "execution_count": 37,
   "id": "e79de073",
   "metadata": {},
   "outputs": [],
   "source": [
    "class Card:\n",
    "    def __init__(self, val: str):\n",
    "        self.val = int(val)\n",
    "        self.label = val\n",
    "\n",
    "    def __repr__(self) -> str:\n",
    "        return self.label"
   ]
  },
  {
   "cell_type": "markdown",
   "id": "8ee3940b",
   "metadata": {},
   "source": [
    "### Deck"
   ]
  },
  {
   "cell_type": "code",
   "execution_count": 4,
   "id": "cba5550b",
   "metadata": {},
   "outputs": [],
   "source": [
    "cardList = {\n",
    "    \"0\": 1,\n",
    "    \"1\": 1,\n",
    "    \"2\": 2,\n",
    "    \"3\": 3,\n",
    "    \"4\": 4,\n",
    "    \"5\": 5,\n",
    "    \"6\": 6,\n",
    "    \"7\": 7,\n",
    "    \"8\": 8,\n",
    "    \"9\": 9,\n",
    "    \"10\": 10,\n",
    "    \"11\": 11,\n",
    "    \"12\": 12,\n",
    "    # \"+2\": 1,\n",
    "    # \"+4\": 1,\n",
    "    # \"+6\": 1,\n",
    "    # \"+8\": 1,\n",
    "    # \"+10\": 1,\n",
    "    # \"x2\": 1,\n",
    "    # \"Freeze\": 3,\n",
    "    # \"Flip Three\": 3,\n",
    "    # \"Second Chance\": 3\n",
    "}"
   ]
  },
  {
   "cell_type": "code",
   "execution_count": 41,
   "id": "a33bac6f",
   "metadata": {},
   "outputs": [],
   "source": [
    "class Deck:\n",
    "    def __init__(self):\n",
    "        self.cards = [0]*len(cardList)\n",
    "\n",
    "        for c in cardList:\n",
    "            for _ in range(cardList[c]):\n",
    "                self.cards.append(Card(c))\n",
    "\n",
    "    def shuffle(self) -> None:\n",
    "        random.shuffle(self.cards)\n",
    "\n",
    "    def draw(self) -> Card:\n",
    "        return self.cards.pop() #Last term in list is top card in deck\n",
    "\n",
    "\n",
    "    def __repr__(self) -> str:\n",
    "        deckString = \"\"\n",
    "\n",
    "        for c in self.cards:\n",
    "            deckString += c.label + \" \"\n",
    "        return deckString"
   ]
  },
  {
   "cell_type": "markdown",
   "id": "a10d0ad9",
   "metadata": {},
   "source": [
    "### Player"
   ]
  },
  {
   "cell_type": "code",
   "execution_count": 24,
   "id": "3df0c647",
   "metadata": {},
   "outputs": [],
   "source": [
    "class Player:\n",
    "    def __init__(self):\n",
    "        self.score = 0\n",
    "        self.active = True\n",
    "        self.hand = set()"
   ]
  },
  {
   "cell_type": "code",
   "execution_count": 39,
   "id": "5ed3f6af",
   "metadata": {},
   "outputs": [
    {
     "name": "stdout",
     "output_type": "stream",
     "text": [
      "12 3 9 3 10 10 4 8 7 9 9 4 0 11 4 10 12 12 9 3 9 6 9 6 10 10 11 9 6 11 8 8 10 6 11 7 12 10 6 12 11 7 5 12 8 11 6 5 9 12 12 9 2 12 5 7 2 10 8 1 5 10 8 7 8 7 12 5 7 12 11 12 11 11 11 8 11 4 10 \n"
     ]
    }
   ],
   "source": [
    "d = Deck()\n",
    "d.shuffle()\n",
    "\n",
    "print(d)"
   ]
  },
  {
   "cell_type": "markdown",
   "id": "935c84f4",
   "metadata": {},
   "source": [
    "## Env"
   ]
  },
  {
   "cell_type": "code",
   "execution_count": null,
   "id": "6cefcd4a",
   "metadata": {},
   "outputs": [],
   "source": [
    "class Flip7(gym.Env):\n",
    "    def __init__(self, players: int = 2):\n",
    "        self.players = players\n",
    "        self.deck = Deck()\n",
    "\n",
    "        self.observation_space = gym.spaces.Dict(\n",
    "            {\n",
    "                \"hand\": gym.spaces.MultiBinary(20),\n",
    "                \"points\": 200,\n",
    "                \"oppHands\": 2,\n",
    "                \"oppPoints\": 100\n",
    "            }\n",
    "        )\n",
    "\n",
    "        self.action_space = gym.spaces.Discrete(2) # 0 -> Hit, 1 -> Stay\n",
    "\n",
    "    def _get_obs(self):\n",
    "        return "
   ]
  },
  {
   "cell_type": "code",
   "execution_count": 50,
   "id": "7da8391c",
   "metadata": {},
   "outputs": [
    {
     "data": {
      "text/plain": [
       "array([3, 1, 2, 3, 2, 1, 1, 1, 2, 1, 2, 1, 2])"
      ]
     },
     "execution_count": 50,
     "metadata": {},
     "output_type": "execute_result"
    }
   ],
   "source": [
    "observation_space = gym.spaces.Box(0,3,shape = (len(cardList), ), dtype = int)\n",
    "observation_space.sample()"
   ]
  }
 ],
 "metadata": {
  "kernelspec": {
   "display_name": "charles",
   "language": "python",
   "name": "python3"
  },
  "language_info": {
   "codemirror_mode": {
    "name": "ipython",
    "version": 3
   },
   "file_extension": ".py",
   "mimetype": "text/x-python",
   "name": "python",
   "nbconvert_exporter": "python",
   "pygments_lexer": "ipython3",
   "version": "3.10.16"
  }
 },
 "nbformat": 4,
 "nbformat_minor": 5
}
