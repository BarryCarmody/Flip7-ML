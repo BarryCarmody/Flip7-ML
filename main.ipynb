{
 "cells": [
  {
   "cell_type": "markdown",
   "id": "ec56e13b",
   "metadata": {},
   "source": [
    "# Flip 7"
   ]
  },
  {
   "cell_type": "code",
   "execution_count": null,
   "id": "1dada4f8",
   "metadata": {},
   "outputs": [],
   "source": [
    "import random\n",
    "import gymnasium as gym\n",
    "import numpy as np\n",
    "import typing"
   ]
  },
  {
   "cell_type": "markdown",
   "id": "2ee5034e",
   "metadata": {},
   "source": [
    "## Game Classes"
   ]
  },
  {
   "cell_type": "markdown",
   "id": "2cbcdda5",
   "metadata": {},
   "source": [
    "### Card"
   ]
  },
  {
   "cell_type": "code",
   "execution_count": 2,
   "id": "e79de073",
   "metadata": {},
   "outputs": [],
   "source": [
    "class Card:\n",
    "    def __init__(self, val: str):\n",
    "        self.val = int(val)\n",
    "        self.label = val\n",
    "\n",
    "    def __repr__(self) -> str:\n",
    "        return self.label"
   ]
  },
  {
   "cell_type": "markdown",
   "id": "8ee3940b",
   "metadata": {},
   "source": [
    "### Deck"
   ]
  },
  {
   "cell_type": "code",
   "execution_count": 3,
   "id": "cba5550b",
   "metadata": {},
   "outputs": [],
   "source": [
    "_cardList = {\n",
    "    \"0\": 1,\n",
    "    \"1\": 1,\n",
    "    \"2\": 2,\n",
    "    \"3\": 3,\n",
    "    \"4\": 4,\n",
    "    \"5\": 5,\n",
    "    \"6\": 6,\n",
    "    \"7\": 7,\n",
    "    \"8\": 8,\n",
    "    \"9\": 9,\n",
    "    \"10\": 10,\n",
    "    \"11\": 11,\n",
    "    \"12\": 12,\n",
    "    # \"+2\": 1,\n",
    "    # \"+4\": 1,\n",
    "    # \"+6\": 1,\n",
    "    # \"+8\": 1,\n",
    "    # \"+10\": 1,\n",
    "    # \"x2\": 1,\n",
    "    # \"Freeze\": 3,\n",
    "    # \"Flip Three\": 3,\n",
    "    # \"Second Chance\": 3\n",
    "}"
   ]
  },
  {
   "cell_type": "code",
   "execution_count": 4,
   "id": "a33bac6f",
   "metadata": {},
   "outputs": [],
   "source": [
    "class Deck:\n",
    "    def __init__(self):\n",
    "        self.cards = []\n",
    "\n",
    "        for c in _cardList:\n",
    "            for _ in range(_cardList[c]):\n",
    "                self.cards.append(Card(c))\n",
    "\n",
    "    def shuffle(self) -> None:\n",
    "        random.shuffle(self.cards)\n",
    "\n",
    "    def draw(self) -> Card:\n",
    "        return self.cards.pop() #Last term in list is top card in deck\n",
    "\n",
    "\n",
    "    def __repr__(self) -> str:\n",
    "        deckString = \"\"\n",
    "\n",
    "        for c in self.cards:\n",
    "            deckString += c.label + \" \"\n",
    "        return deckString"
   ]
  },
  {
   "cell_type": "markdown",
   "id": "a10d0ad9",
   "metadata": {},
   "source": [
    "### Player"
   ]
  },
  {
   "cell_type": "code",
   "execution_count": null,
   "id": "3df0c647",
   "metadata": {},
   "outputs": [],
   "source": [
    "class Player:\n",
    "    def __init__(self):\n",
    "        self.points = 0\n",
    "        self.active = True\n",
    "        self.hand = []\n",
    "\n",
    "    def calcVal(self) -> int:\n",
    "        val = 0\n",
    "        for c in self.hand:\n",
    "            val += c.val\n",
    "        \n",
    "        return val\n",
    "    \n",
    "    def hit(self, card) -> tuple[bool, int]:\n",
    "        if card.label in [c.label for c in self.hand]: #Bust\n",
    "            self.active = False\n",
    "            return False, 0\n",
    "\n",
    "        self.hand.append(card)\n",
    "        return True, 0\n",
    "\n",
    "    def stay(self) -> int:\n",
    "        self.active = False\n",
    "        reward = self.calcVal()\n",
    "        self.points += reward\n",
    "        return reward"
   ]
  },
  {
   "cell_type": "code",
   "execution_count": 6,
   "id": "5ed3f6af",
   "metadata": {},
   "outputs": [
    {
     "name": "stdout",
     "output_type": "stream",
     "text": [
      "10 5 10 9 5 4 12 11 10 7 1 3 10 10 7 11 8 12 7 10 8 8 9 9 6 11 6 5 0 10 11 12 7 5 2 6 9 9 12 11 7 12 9 11 12 9 12 3 11 8 12 7 9 6 12 8 7 10 11 12 11 11 10 4 8 11 3 8 4 12 6 12 10 6 2 8 4 5 9 \n"
     ]
    }
   ],
   "source": [
    "d = Deck()\n",
    "d.shuffle()\n",
    "\n",
    "print(d)"
   ]
  },
  {
   "cell_type": "markdown",
   "id": "935c84f4",
   "metadata": {},
   "source": [
    "## Env"
   ]
  },
  {
   "cell_type": "code",
   "execution_count": null,
   "id": "6cefcd4a",
   "metadata": {},
   "outputs": [],
   "source": [
    "class Flip7(gym.Env):\n",
    "    def __init__(self):\n",
    "        self.agent = Player()\n",
    "\n",
    "        self.players = 2\n",
    "        self.activePlayers = 2\n",
    "        self.opponents = []\n",
    "        for _ in range(self.players - 1):\n",
    "            self.opponents.append(Player())\n",
    "\n",
    "        self.deck = Deck()\n",
    "        self.trash = np.array([])\n",
    "\n",
    "        self.observation_space = gym.spaces.Dict(\n",
    "            {\n",
    "                \"hand\": gym.spaces.Box(0,2, shape=(21,), dtype = int),\n",
    "                \"points\": gym.spaces.Box(0,485, shape=(1,), dtype=int),\n",
    "                \"oppHands\": gym.spaces.Box(0,2, shape=(21,self.players - 1), dtype = int),\n",
    "                \"oppPoints\": gym.spaces.MultiBinary([21,self.players - 1]),\n",
    "                \"Trash\": gym.spaces.Box(0,12, shape=(21,), dtype = int)\n",
    "            }\n",
    "        )\n",
    "\n",
    "        self.action_space = gym.spaces.Discrete(2) # 0 -> Hit, 1 -> Stay\n",
    "\n",
    "    \n",
    "    def _get_obs(self) -> dict[str, typing.Union[np.ndarray, int]]:\n",
    "        hand = np.zeros(21)\n",
    "\n",
    "        for c in self.agent.hand:\n",
    "            hand[_cardList.keys().index(c.label)] += 1 #Array counting number of each card\n",
    "\n",
    "        oppHands = np.array([])\n",
    "        for op in self.opponents:\n",
    "            opHand = np.zeros(21)\n",
    "            for c in op.hand:\n",
    "                opHand[_cardList.keys().index(c.label)] += 1 #Array counting number of each card\n",
    "\n",
    "            oppHands.append(opHand)\n",
    "\n",
    "        oppPoints = np.array([o.points for o in self.opponents]) #Array of opponent scores\n",
    "\n",
    "        trash = np.zeros(21)\n",
    "\n",
    "        for c in self.trash:\n",
    "            trash[_cardList.keys().index(c.label)] += 1 #Array counting number of each card\n",
    "        \n",
    "        return {\"hand\": hand, \"points\": self.agent.points, \"oppHands\": oppHands, \"oppPoints\": oppPoints, \"Trash\": trash}\n",
    "    \n",
    "    \n",
    "    def _get_info(self) -> dict[str, np.ndarray]:\n",
    "        return {\n",
    "            \"Current\": [c.label for c in self.agent.hand]\n",
    "        }\n",
    "    \n",
    "\n",
    "    def reset(self) -> tuple[dict[str, typing.Union[np.ndarray, int]], dict[str, np.ndarray]]: \n",
    "        self.agent = Player()\n",
    "\n",
    "        self.players = 2\n",
    "        self.opponents = []\n",
    "        for _ in range(self.players - 1):\n",
    "            self.opponents.append(Player())\n",
    "\n",
    "        self.deck = Deck()\n",
    "        self.trash = np.array([])\n",
    "\n",
    "        observation = self._get_obs()\n",
    "        info = self._get_info()\n",
    "\n",
    "        return observation, info\n",
    "    \n",
    "    \n",
    "    def step(self, action):\n",
    "        if action == 1:\n",
    "            reward = self.agent.stay()\n",
    "            self.activePlayers -= 1\n",
    "\n",
    "        else:\n",
    "            cont, reward = self.agent.hit()\n",
    "\n",
    "\n",
    "        observation = self._get_obs()\n",
    "        info = self._get_info()\n",
    "        terminated = (self.activePlayers == 0)\n",
    "        truncated = False\n",
    "\n",
    "        return observation, reward, terminated, truncated, info"
   ]
  }
 ],
 "metadata": {
  "kernelspec": {
   "display_name": "charles",
   "language": "python",
   "name": "python3"
  },
  "language_info": {
   "codemirror_mode": {
    "name": "ipython",
    "version": 3
   },
   "file_extension": ".py",
   "mimetype": "text/x-python",
   "name": "python",
   "nbconvert_exporter": "python",
   "pygments_lexer": "ipython3",
   "version": "3.10.16"
  }
 },
 "nbformat": 4,
 "nbformat_minor": 5
}
