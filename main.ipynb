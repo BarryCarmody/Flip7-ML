{
 "cells": [
  {
   "cell_type": "markdown",
   "id": "ec56e13b",
   "metadata": {},
   "source": [
    "# Flip 7"
   ]
  },
  {
   "cell_type": "code",
   "execution_count": 58,
   "id": "1dada4f8",
   "metadata": {},
   "outputs": [],
   "source": [
    "import random\n",
    "import gymnasium as gym\n",
    "import numpy as np\n",
    "import typing"
   ]
  },
  {
   "cell_type": "markdown",
   "id": "2ee5034e",
   "metadata": {},
   "source": [
    "## Game Classes"
   ]
  },
  {
   "cell_type": "markdown",
   "id": "2cbcdda5",
   "metadata": {},
   "source": [
    "### Card"
   ]
  },
  {
   "cell_type": "code",
   "execution_count": 59,
   "id": "e79de073",
   "metadata": {},
   "outputs": [],
   "source": [
    "class Card:\n",
    "    def __init__(self, val: str):\n",
    "        self.val = int(val)\n",
    "        self.label = val\n",
    "\n",
    "    def __repr__(self) -> str:\n",
    "        return self.label"
   ]
  },
  {
   "cell_type": "markdown",
   "id": "8ee3940b",
   "metadata": {},
   "source": [
    "### Deck"
   ]
  },
  {
   "cell_type": "code",
   "execution_count": 60,
   "id": "cba5550b",
   "metadata": {},
   "outputs": [],
   "source": [
    "_cardList = {\n",
    "    \"0\": 1,\n",
    "    \"1\": 1,\n",
    "    \"2\": 2,\n",
    "    \"3\": 3,\n",
    "    \"4\": 4,\n",
    "    \"5\": 5,\n",
    "    \"6\": 6,\n",
    "    \"7\": 7,\n",
    "    \"8\": 8,\n",
    "    \"9\": 9,\n",
    "    \"10\": 10,\n",
    "    \"11\": 11,\n",
    "    \"12\": 12,\n",
    "    # \"+2\": 1,\n",
    "    # \"+4\": 1,\n",
    "    # \"+6\": 1,\n",
    "    # \"+8\": 1,\n",
    "    # \"+10\": 1,\n",
    "    # \"x2\": 1,\n",
    "    # \"Freeze\": 3,\n",
    "    # \"Flip Three\": 3,\n",
    "    # \"Second Chance\": 3\n",
    "}"
   ]
  },
  {
   "cell_type": "code",
   "execution_count": 61,
   "id": "a33bac6f",
   "metadata": {},
   "outputs": [],
   "source": [
    "class Deck:\n",
    "    def __init__(self):\n",
    "        self.cards = []\n",
    "\n",
    "        for c in _cardList:\n",
    "            for _ in range(_cardList[c]):\n",
    "                self.cards.append(Card(c))\n",
    "\n",
    "        self.trash = []\n",
    "\n",
    "    def shuffle(self) -> None:\n",
    "        random.shuffle(self.cards)\n",
    "\n",
    "    def draw(self) -> Card:\n",
    "        return self.cards.pop() #Last term in list is top card in deck\n",
    "\n",
    "    def __repr__(self) -> str:\n",
    "        deckString = \"[\"\n",
    "\n",
    "        for c in self.cards:\n",
    "            deckString += c.label + \" \"\n",
    "\n",
    "        deckString += \"]\"\n",
    "        return deckString"
   ]
  },
  {
   "cell_type": "markdown",
   "id": "a10d0ad9",
   "metadata": {},
   "source": [
    "### Player"
   ]
  },
  {
   "cell_type": "code",
   "execution_count": 62,
   "id": "3df0c647",
   "metadata": {},
   "outputs": [],
   "source": [
    "class Player:\n",
    "    def __init__(self, deck: Deck):\n",
    "        self.points = 0\n",
    "        self.active = True\n",
    "        self.hand = []\n",
    "        self.deck = deck\n",
    "\n",
    "    def calcVal(self) -> int:\n",
    "        val = 0\n",
    "        for c in self.hand:\n",
    "            val += c.val\n",
    "        \n",
    "        return val\n",
    "    \n",
    "    def turn(self, choice) -> tuple[bool, int]:\n",
    "        if choice == 0:\n",
    "            return self.hit()\n",
    "        \n",
    "        else:\n",
    "            return self.stay()\n",
    "    \n",
    "    def hit(self) -> tuple[bool, int]:\n",
    "        card = self.deck.draw()\n",
    "        if card.label in [c.label for c in self.hand]: #Bust\n",
    "            self.active = False\n",
    "            return False, 0\n",
    "\n",
    "        self.hand.append(card)\n",
    "        return True, 0\n",
    "\n",
    "    def stay(self) -> tuple[bool, int]:\n",
    "        self.active = False\n",
    "        reward = self.calcVal()\n",
    "        self.points += reward\n",
    "        return False, reward\n",
    "    \n",
    "    def discardHand(self) -> None:\n",
    "        self.deck.trash += self.hand\n",
    "        self.hand = []"
   ]
  },
  {
   "cell_type": "code",
   "execution_count": 63,
   "id": "e02eaa1a",
   "metadata": {},
   "outputs": [
    {
     "name": "stdout",
     "output_type": "stream",
     "text": [
      "[7 6 12 11 7 7 5 4 4 11 2 11 9 10 2 5 12 9 8 5 9 12 11 8 4 6 10 12 12 6 11 10 4 10 11 10 3 8 12 5 6 3 10 9 12 8 12 10 9 8 11 7 9 7 12 11 6 5 7 11 9 8 12 8 10 10 9 6 0 7 11 12 11 9 10 3 1 12 8 ]\n"
     ]
    }
   ],
   "source": [
    "d = Deck()\n",
    "d.shuffle()\n",
    "\n",
    "print(d)"
   ]
  },
  {
   "cell_type": "code",
   "execution_count": 64,
   "id": "7bb9b84f",
   "metadata": {},
   "outputs": [
    {
     "name": "stdout",
     "output_type": "stream",
     "text": [
      "[8]\n"
     ]
    }
   ],
   "source": [
    "p = Player(d)\n",
    "p.hit()\n",
    "\n",
    "print(p.hand)"
   ]
  },
  {
   "cell_type": "markdown",
   "id": "d9106d27",
   "metadata": {},
   "source": [
    "### Opponents"
   ]
  },
  {
   "cell_type": "markdown",
   "id": "ad1cbe7c",
   "metadata": {},
   "source": [
    "#### Random Choice"
   ]
  },
  {
   "cell_type": "code",
   "execution_count": null,
   "id": "9bb5d3f0",
   "metadata": {},
   "outputs": [],
   "source": [
    "class RCOpponent(Player):\n",
    "    def __init__(self, deck: Deck, risk):\n",
    "        super().__init__(deck)\n",
    "        self.risk = risk\n",
    "\n",
    "    def turn(self) -> tuple[bool, int]:\n",
    "        if not self.active:\n",
    "            return True, 0 # Returns True because active status does not change\n",
    "        \n",
    "        if self.hand:\n",
    "            choice = random.uniform(0,1) \n",
    "            \n",
    "        else:\n",
    "            choice = 0 # No cards in hand, must hit\n",
    "\n",
    "        if choice < self.risk: #Chooses between hit and stay with given riskiness\n",
    "            return self.hit()\n",
    "\n",
    "        else:\n",
    "            return self.stay()"
   ]
  },
  {
   "cell_type": "markdown",
   "id": "935c84f4",
   "metadata": {},
   "source": [
    "## Env "
   ]
  },
  {
   "cell_type": "code",
   "execution_count": null,
   "id": "6cefcd4a",
   "metadata": {},
   "outputs": [],
   "source": [
    "class Flip7(gym.Env):\n",
    "    def __init__(self):\n",
    "        self.deck = Deck()\n",
    "        self.agent = Player(self.deck)\n",
    "\n",
    "        self.players = 2\n",
    "        self.activePlayers = self.players\n",
    "\n",
    "        self.opponents = []\n",
    "\n",
    "        for _ in range(self.players - 1):\n",
    "            riskiness = random.randint(4,9)\n",
    "            self.opponents.append(RCOpponent(self.deck, 0.1*riskiness))\n",
    "\n",
    "        self.turnOrder = 0\n",
    "        self.i = [0]\n",
    "\n",
    "        self.observation_space = gym.spaces.Dict(\n",
    "            {\n",
    "                \"turnOrder\":gym.spaces.Box(1,8, shape=(1,), dtype=int),\n",
    "                #\"hand\": gym.spaces.Box(0,2, shape=(21,), dtype = int),\n",
    "                #\"points\": gym.spaces.Box(0,485, shape=(1,), dtype=int),\n",
    "                #\"oppHands\": gym.spaces.Box(0,2, shape=(21,self.players - 1), dtype = int),\n",
    "                #\"oppPoints\": gym.spaces.Box(0,485, shape=(self.players - 1,), dtype=int),\n",
    "                #\"trash\": gym.spaces.Box(0,12, shape=(21,), dtype = int)\n",
    "            }\n",
    "        )\n",
    "\n",
    "        self.action_space = gym.spaces.Discrete(2) # 0 -> Hit, 1 -> Stay\n",
    "\n",
    "    \n",
    "    def _get_obs(self) -> dict[str, typing.Union[np.ndarray, int]]:\n",
    "        hand = np.zeros(21)\n",
    "\n",
    "        for c in self.agent.hand:\n",
    "            hand[list(_cardList.keys()).index(c.label)] += 1 #Array counting number of each card\n",
    "\n",
    "        oppHands = np.array([])\n",
    "        for op in self.opponents:\n",
    "            opHand = np.zeros(21)\n",
    "            for c in op.hand:\n",
    "                opHand[list(_cardList.keys()).index(c.label)] += 1 #Array counting number of each card\n",
    "\n",
    "            np.append(oppHands, opHand)\n",
    "\n",
    "        oppPoints = np.array([o.points for o in self.opponents]) #Array of opponent scores\n",
    "\n",
    "        trash = np.zeros(21)\n",
    "\n",
    "        for c in self.deck.trash:\n",
    "            trash[list(_cardList.keys()).index(c.label)] += 1 #Array counting number of each card\n",
    "        \n",
    "        return {\"turnOrder\": np.array([self.turnOrder])}#,\"hand\": hand, \"points\": np.array([self.agent.points]), \"oppHands\": oppHands, \"oppPoints\": oppPoints, \"trash\": trash}\n",
    "    \n",
    "    \n",
    "    def _get_info(self) -> dict[str, np.ndarray]:\n",
    "        return {\n",
    "            \"Current\": [c.label for c in self.agent.hand]\n",
    "        }\n",
    "    \n",
    "    \n",
    "    def opponentRound(self): # Performs opponent actions between steps\n",
    "        print(\"a\")\n",
    "        for opp in self.opponents[self.turnOrder - 1:]: # Opponents after agent in order\n",
    "            #print(f\"Opp time {self.i[0]}: \", opp.hand)\n",
    "            self.i[0] += 1\n",
    "            activeStatus, _ = opp.turn()\n",
    "\n",
    "            if not activeStatus:\n",
    "                self.activePlayers -= 1\n",
    "\n",
    "        for opp in self.opponents[:self.turnOrder - 1]: # Opponents before agent in order\n",
    "            #print(f\"Opp time {self.i[0]}: \", opp.hand)\n",
    "            self.i[0] += 1\n",
    "            activeStatus, _ = opp.turn()\n",
    "\n",
    "            if not activeStatus:\n",
    "                self.activePlayers -= 1\n",
    "    \n",
    "\n",
    "    def reset(self, seed: typing.Optional[int] = None, options: typing.Optional[dict] = None) -> tuple[dict[str, typing.Union[np.ndarray, int]], dict[str, np.ndarray]]: \n",
    "        self.deck = Deck()\n",
    "        self.agent = Player(self.deck)\n",
    "\n",
    "        self.i =[0]\n",
    "\n",
    "        self.players = 2\n",
    "        self.activePlayers = self.players\n",
    "\n",
    "        self.opponents = []\n",
    "        for _ in range(self.players - 1):\n",
    "            riskiness = random.randint(4,9)\n",
    "            self.opponents.append(RCOpponent(self.deck, 0.1*riskiness))\n",
    "\n",
    "        self.turnOrder = random.randint(1, self.players) # 1 -> agent goes first, 2 -> agent goes second, ...\n",
    "\n",
    "        # Players that are earlier in turnOrder than agent take turn before first step\n",
    "        for order in range(1,self.turnOrder):\n",
    "            turnPlayer = self.opponents[-order]\n",
    "\n",
    "            activeStatus, _ = turnPlayer.turn()\n",
    "\n",
    "            if not activeStatus:\n",
    "                self.activePlayers -= 1\n",
    "\n",
    "        observation = self._get_obs()\n",
    "        info = self._get_info()\n",
    "\n",
    "        return observation, info\n",
    "    \n",
    "    \n",
    "    def step(self, action):\n",
    "        if not self.agent.hand or action == 0:\n",
    "            activeStatus, reward = self.agent.hit()\n",
    "        \n",
    "        else:\n",
    "            activeStatus, reward = self.agent.stay()\n",
    "            self.activePlayers -= 1\n",
    "            \n",
    "        if not activeStatus:\n",
    "            self.activePlayers -= 1\n",
    "\n",
    "        if self.agent.active:\n",
    "            self.opponentRound()\n",
    "\n",
    "        else:\n",
    "            while self.activePlayers:\n",
    "                self.opponentRound()\n",
    "\n",
    "        observation = self._get_obs()\n",
    "        info = self._get_info()\n",
    "        print(self.activePlayers)\n",
    "        terminated = (self.activePlayers == 0)\n",
    "        truncated = False\n",
    "\n",
    "        return observation, reward, terminated, truncated, info"
   ]
  },
  {
   "cell_type": "markdown",
   "id": "5bde7b74",
   "metadata": {},
   "source": [
    "### Register Env"
   ]
  },
  {
   "cell_type": "code",
   "execution_count": 153,
   "id": "3e4a5178",
   "metadata": {},
   "outputs": [],
   "source": [
    "gym.register(\n",
    "    id = \"barrys_zone/Flip7-v0\",\n",
    "    entry_point=Flip7,\n",
    ")"
   ]
  },
  {
   "cell_type": "code",
   "execution_count": 81,
   "id": "95afec5d",
   "metadata": {},
   "outputs": [],
   "source": [
    "#gym.pprint_registry()"
   ]
  },
  {
   "cell_type": "markdown",
   "id": "76c87e26",
   "metadata": {},
   "source": [
    "## Train Agent"
   ]
  },
  {
   "cell_type": "code",
   "execution_count": 154,
   "id": "6309addb",
   "metadata": {},
   "outputs": [],
   "source": [
    "env = gym.make('barrys_zone/Flip7-v0')"
   ]
  },
  {
   "cell_type": "code",
   "execution_count": 90,
   "id": "1f98e606",
   "metadata": {},
   "outputs": [
    {
     "data": {
      "text/plain": [
       "Discrete(2)"
      ]
     },
     "execution_count": 90,
     "metadata": {},
     "output_type": "execute_result"
    }
   ],
   "source": [
    "env.action_space"
   ]
  },
  {
   "cell_type": "code",
   "execution_count": 91,
   "id": "f04d50a4",
   "metadata": {},
   "outputs": [
    {
     "data": {
      "text/plain": [
       "Dict('hand': Box(0, 2, (21,), int64), 'oppHands': Box(0, 2, (21, 1), int64), 'oppPoints': Box(0, 485, (1,), int64), 'points': Box(0, 485, (1,), int64), 'trash': Box(0, 12, (21,), int64), 'turnOrder': Box(1, 8, (1,), int64))"
      ]
     },
     "execution_count": 91,
     "metadata": {},
     "output_type": "execute_result"
    }
   ],
   "source": [
    "env.observation_space"
   ]
  },
  {
   "cell_type": "markdown",
   "id": "bfcc8a86",
   "metadata": {},
   "source": [
    "Play an episode of the environment using random actions"
   ]
  },
  {
   "cell_type": "code",
   "execution_count": 162,
   "id": "5af3b5af",
   "metadata": {},
   "outputs": [
    {
     "name": "stdout",
     "output_type": "stream",
     "text": [
      "a\n",
      "Opp time: 0 [12]\n",
      "0.9460888584897993\n",
      "1\n",
      "0\n"
     ]
    }
   ],
   "source": [
    "obs, _ = env.reset()\n",
    "\n",
    "terminate = False\n",
    "truncate = False\n",
    "\n",
    "while not (terminate or truncate):\n",
    "    action = env.action_space.sample()\n",
    "    obs, reward, terminate, truncate, info = env.step(action)\n"
   ]
  }
 ],
 "metadata": {
  "kernelspec": {
   "display_name": "reinforce",
   "language": "python",
   "name": "python3"
  },
  "language_info": {
   "codemirror_mode": {
    "name": "ipython",
    "version": 3
   },
   "file_extension": ".py",
   "mimetype": "text/x-python",
   "name": "python",
   "nbconvert_exporter": "python",
   "pygments_lexer": "ipython3",
   "version": "3.11.11"
  }
 },
 "nbformat": 4,
 "nbformat_minor": 5
}
