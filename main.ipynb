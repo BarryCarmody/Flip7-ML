{
 "cells": [
  {
   "cell_type": "markdown",
   "id": "ec56e13b",
   "metadata": {},
   "source": [
    "# Flip 7"
   ]
  },
  {
   "cell_type": "code",
   "execution_count": 19,
   "id": "1dada4f8",
   "metadata": {},
   "outputs": [],
   "source": [
    "import random\n",
    "import gymnasium as gym\n",
    "import numpy as np"
   ]
  },
  {
   "cell_type": "markdown",
   "id": "2ee5034e",
   "metadata": {},
   "source": [
    "## Game Classes"
   ]
  },
  {
   "cell_type": "markdown",
   "id": "2cbcdda5",
   "metadata": {},
   "source": [
    "### Card"
   ]
  },
  {
   "cell_type": "code",
   "execution_count": 3,
   "id": "e79de073",
   "metadata": {},
   "outputs": [],
   "source": [
    "class Card:\n",
    "    def __init__(self, val: str):\n",
    "        self.val = int(val)\n",
    "        self.label = val\n",
    "\n",
    "    def __repr__(self) -> str:\n",
    "        return self.label"
   ]
  },
  {
   "cell_type": "markdown",
   "id": "8ee3940b",
   "metadata": {},
   "source": [
    "### Deck"
   ]
  },
  {
   "cell_type": "code",
   "execution_count": 20,
   "id": "cba5550b",
   "metadata": {},
   "outputs": [],
   "source": [
    "cardList = {\n",
    "    \"0\": 1,\n",
    "    \"1\": 1,\n",
    "    \"2\": 2,\n",
    "    \"3\": 3,\n",
    "    \"4\": 4,\n",
    "    \"5\": 5,\n",
    "    \"6\": 6,\n",
    "    \"7\": 7,\n",
    "    \"8\": 8,\n",
    "    \"9\": 9,\n",
    "    \"10\": 10,\n",
    "    \"11\": 11,\n",
    "    \"12\": 12,\n",
    "    # \"+2\": 1,\n",
    "    # \"+4\": 1,\n",
    "    # \"+6\": 1,\n",
    "    # \"+8\": 1,\n",
    "    # \"+10\": 1,\n",
    "    # \"x2\": 1,\n",
    "    # \"Freeze\": 3,\n",
    "    # \"Flip Three\": 3,\n",
    "    # \"Second Chance\": 3\n",
    "}"
   ]
  },
  {
   "cell_type": "code",
   "execution_count": 8,
   "id": "a33bac6f",
   "metadata": {},
   "outputs": [],
   "source": [
    "class Deck:\n",
    "    def __init__(self):\n",
    "        self.cards = []\n",
    "\n",
    "        for c in cardList:\n",
    "            for _ in range(cardList[c]):\n",
    "                self.cards.append(Card(c))\n",
    "\n",
    "    def shuffle(self) -> None:\n",
    "        random.shuffle(self.cards)\n",
    "\n",
    "    def draw(self) -> Card:\n",
    "        return self.cards.pop() #Last term in list is top card in deck\n",
    "\n",
    "\n",
    "    def __repr__(self) -> str:\n",
    "        deckString = \"\"\n",
    "\n",
    "        for c in self.cards:\n",
    "            deckString += c.label + \" \"\n",
    "        return deckString"
   ]
  },
  {
   "cell_type": "markdown",
   "id": "a10d0ad9",
   "metadata": {},
   "source": [
    "### Player"
   ]
  },
  {
   "cell_type": "code",
   "execution_count": 21,
   "id": "3df0c647",
   "metadata": {},
   "outputs": [],
   "source": [
    "class Player:\n",
    "    def __init__(self):\n",
    "        self.points = 0\n",
    "        self.active = True\n",
    "        self.hand = []"
   ]
  },
  {
   "cell_type": "code",
   "execution_count": 10,
   "id": "5ed3f6af",
   "metadata": {},
   "outputs": [
    {
     "name": "stdout",
     "output_type": "stream",
     "text": [
      "6 3 5 6 12 12 2 10 10 9 9 11 11 10 5 9 8 10 10 9 8 0 10 11 12 8 3 10 11 7 11 1 12 12 7 12 11 6 6 9 10 2 5 7 6 5 12 8 9 4 8 4 8 8 10 11 9 7 12 7 9 7 6 12 4 8 7 5 11 12 10 11 12 9 11 3 4 11 12 \n"
     ]
    }
   ],
   "source": [
    "d = Deck()\n",
    "d.shuffle()\n",
    "\n",
    "print(d)"
   ]
  },
  {
   "cell_type": "markdown",
   "id": "935c84f4",
   "metadata": {},
   "source": [
    "## Env"
   ]
  },
  {
   "cell_type": "code",
   "execution_count": 23,
   "id": "6cefcd4a",
   "metadata": {},
   "outputs": [],
   "source": [
    "class Flip7(gym.Env):\n",
    "    def __init__(self, players: int = 2):\n",
    "        self.players = players\n",
    "\n",
    "        self.agent = Player()\n",
    "        self.opponents = []\n",
    "        self.deck = Deck()\n",
    "        self.trash = np.array([])\n",
    "\n",
    "        self.observation_space = gym.spaces.Dict(\n",
    "            {\n",
    "                \"hand\": gym.spaces.Box(0,2, shape=(21,), dtype = int),\n",
    "                \"points\": gym.spaces.Box(0,485, shape=(1,), dtype=int),\n",
    "                \"oppHands\": gym.spaces.Box(0,2, shape=(21,players - 1), dtype = int),\n",
    "                \"oppPoints\": gym.spaces.MultiBinary([21,players - 1]),\n",
    "                \"Trash\": gym.spaces.Box(0,12, shape=(21,), dtype = int)\n",
    "            }\n",
    "        )\n",
    "\n",
    "        self.action_space = gym.spaces.Discrete(2) # 0 -> Hit, 1 -> Stay\n",
    "    \n",
    "    def _get_obs(self):\n",
    "        hand = np.zeros(21)\n",
    "\n",
    "        for c in self.agent.hand:\n",
    "            hand[cardList.keys().index(c.label)] += 1\n",
    "\n",
    "        oppHands = np.array([])\n",
    "        for op in self.opponents:\n",
    "            opHand = np.zeros(21)\n",
    "            for c in op.hand:\n",
    "                opHand[cardList.keys().index(c.label)] += 1\n",
    "\n",
    "            oppHands.append(opHand)\n",
    "\n",
    "        oppPoints = np.array([o.points for o in self.opponents])\n",
    "\n",
    "        trash = np.zeros(21)\n",
    "\n",
    "        for c in self.trash:\n",
    "            trash[cardList.keys().index(c.label)] += 1\n",
    "        \n",
    "        return {\"hand\": hand, \"points\": self.agent.points, \"oppHands\": oppHands, \"oppPoints\": oppPoints, \"Trash\": trash}"
   ]
  },
  {
   "cell_type": "code",
   "execution_count": 16,
   "id": "7da8391c",
   "metadata": {},
   "outputs": [
    {
     "data": {
      "text/plain": [
       "array([2, 0, 0, 1, 1, 2, 3, 2, 1, 3, 2, 3, 2])"
      ]
     },
     "execution_count": 16,
     "metadata": {},
     "output_type": "execute_result"
    }
   ],
   "source": [
    "observation_space = gym.spaces.Box(0,3,shape = (len(cardList), ), dtype = int)\n",
    "observation_space.sample()"
   ]
  },
  {
   "cell_type": "code",
   "execution_count": null,
   "id": "59e50e45",
   "metadata": {},
   "outputs": [
    {
     "name": "stdout",
     "output_type": "stream",
     "text": [
      "2\n"
     ]
    }
   ],
   "source": []
  }
 ],
 "metadata": {
  "kernelspec": {
   "display_name": "charles",
   "language": "python",
   "name": "python3"
  },
  "language_info": {
   "codemirror_mode": {
    "name": "ipython",
    "version": 3
   },
   "file_extension": ".py",
   "mimetype": "text/x-python",
   "name": "python",
   "nbconvert_exporter": "python",
   "pygments_lexer": "ipython3",
   "version": "3.10.16"
  }
 },
 "nbformat": 4,
 "nbformat_minor": 5
}
